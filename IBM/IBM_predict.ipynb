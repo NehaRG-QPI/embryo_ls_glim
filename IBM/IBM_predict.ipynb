{
 "cells": [
  {
   "cell_type": "code",
   "execution_count": null,
   "id": "0fd1bfc9",
   "metadata": {},
   "outputs": [],
   "source": [
    "# THIS CODE IS FOR SINGLE z-SLICE LEVEL IBM PREDICTION"
   ]
  },
  {
   "cell_type": "code",
   "execution_count": null,
   "id": "a653a211",
   "metadata": {},
   "outputs": [],
   "source": [
    "import torch\n",
    "import torch.nn as nn\n",
    "import torchvision.transforms as transforms\n",
    "import torchvision\n",
    "from torch.utils.data import Dataset\n",
    "from skimage import io\n",
    "import os\n",
    "import pandas as pd\n",
    "from load_image_data import embhealth\n",
    "import numpy as np\n",
    "import sys"
   ]
  },
  {
   "cell_type": "code",
   "execution_count": null,
   "id": "e696eed2",
   "metadata": {},
   "outputs": [],
   "source": [
    "# SETUP THE DEVICE\n",
    "\n",
    "device=torch.device('cuda' if torch.cuda.is_available() else 'cpu')\n",
    "print(device)\n",
    "print(torch.cuda.device_count())\n",
    "print(torch.cuda.get_device_name(torch.cuda.current_device()))\n",
    "CUDA_LAUNCH_BLOCKING=1\n",
    "print(torch.__version__)"
   ]
  },
  {
   "cell_type": "code",
   "execution_count": null,
   "id": "33c13b86",
   "metadata": {},
   "outputs": [],
   "source": [
    "# DEFINE PARAMETERS AND FILEPATHS\n",
    "\n",
    "dropout_rate=0.3\n",
    "base_folder=\"your system path to extracted embryo_ls_glim-main folder\"\n",
    "model_name=\"IBM\"\n",
    "f_num=\"healthy\"\n",
    "folder=os.path.join(base_folder,model_name) # path to pretrained IBM folder\n",
    "folderw=f\"{base_folder}/example_data/{f_num}\" # path to write folder where IBM writes the result csv\n",
    "if os.path.isdir(folderw):\n",
    "    print(\"Directory already exists\\n\")\n",
    "else:\n",
    "    os.mkdir(folderw)\n",
    "    print(\"Folder created\\n\")\n"
   ]
  },
  {
   "cell_type": "code",
   "execution_count": null,
   "id": "bd28e03b",
   "metadata": {},
   "outputs": [],
   "source": [
    "# DEFINE DATASET\n",
    "\n",
    "test_dataset=embhealth(\n",
    "    csv_file=f\"{folderw}/overlapped/unknown.csv\", # per slice label-file\n",
    "    root_dir=f\"{folderw}/overlapped\",# image directory\n",
    "    transform=transforms.Compose([\n",
    "        transforms.ToTensor(),\n",
    "        transforms.Resize([633,630]), # resize to match model input size  \n",
    "    ])\n",
    " )"
   ]
  },
  {
   "cell_type": "code",
   "execution_count": null,
   "id": "b601044d",
   "metadata": {},
   "outputs": [],
   "source": [
    "# LOAD STANDARD PRETRAINED MODEL\n",
    "\n",
    "model=torchvision.models.efficientnet_b7(pretrained=True)\n",
    "#print(model)\n",
    "#print(model, file=open(f\"{folder}/saved_images/base_model.txt\",'a'))"
   ]
  },
  {
   "cell_type": "code",
   "execution_count": null,
   "id": "b89705b6",
   "metadata": {},
   "outputs": [],
   "source": [
    "# CHANGE MODEL ARCHITECTURE TO MATCH THE TRAINED MODEL\n",
    "\n",
    "for param in model.parameters():\n",
    "    param.requires_grad=False\n",
    "\n",
    "model.classifier[0]=nn.Dropout(p=dropout_rate, inplace=True)\n",
    "model.classifier[1]=nn.Sequential(\n",
    "    nn.Linear(in_features=2560,out_features=500,bias=True),\n",
    "    nn.ReLU(),\n",
    "    nn.Linear(in_features=500,out_features=200,bias=True),\n",
    "    nn.ReLU(),\n",
    "    nn.Linear(in_features=200,out_features=2,bias=True),\n",
    "    \n",
    ")\n",
    "model=model.to(device)\n",
    "#print(model)\n",
    "#print(model, file=open(f\"{folder}/saved_images/modified_model.txt\",'a'))"
   ]
  },
  {
   "cell_type": "code",
   "execution_count": null,
   "id": "aba6c987",
   "metadata": {},
   "outputs": [],
   "source": [
    "# MAKE A REPLICA OF THE MODIFIED MODEL AND LOAD TRAINED MODEL PARAMETERS\n",
    "\n",
    "model2=model\n",
    "model2.load_state_dict(torch.load(f\"{folder}/modelp99.pth\"))\n",
    "#print(model2)"
   ]
  },
  {
   "cell_type": "code",
   "execution_count": null,
   "id": "6aa5dbdc",
   "metadata": {
    "scrolled": true
   },
   "outputs": [],
   "source": [
    "# MAKE PREDICTIONS ON THE TEST DATASET\n",
    "\n",
    "model=model2 \n",
    "classes = [\"Healthy\",\"Sick\"]\n",
    "\n",
    "model.eval()\n",
    "\n",
    "selected_dataset=test_dataset\n",
    "\n",
    "predictions=[]\n",
    "probabilities=[]\n",
    "prob_1=[]\n",
    "true_label=[]\n",
    "name=[]\n",
    "print(f\"Using {device} device\")\n",
    "with torch.no_grad():\n",
    "    for i,j in enumerate(range(len(selected_dataset))):\n",
    "        x1,y1=selected_dataset[j][0],selected_dataset[j][1]\n",
    "        name.append(selected_dataset[j][2])\n",
    "        x1= torch.unsqueeze(x1, 0)\n",
    "        x1,y1 =x1.to(device), y1.to(device)\n",
    "        pred=model(x1)\n",
    "        predicted,actual=classes[pred[0].argmax(0)],classes[y1]\n",
    "        m = torch.nn.Softmax(dim=0)\n",
    "        prob=m(pred[0])\n",
    "        probabilities.append(prob[prob.argmax(0)].cpu().numpy())\n",
    "        prob_1.append(prob[1].cpu().numpy())\n",
    "        true_label.append(y1.cpu().numpy())\n",
    "        predictions.append(pred[0].argmax(0).cpu().numpy())\n",
    "\n",
    "# write results to csv         \n",
    "df = pd.DataFrame({'name':name,\n",
    "                   'predicted': predictions,\n",
    "\n",
    "                   'actual': true_label,\n",
    "                   \n",
    "                   'probability':probabilities,\n",
    "                   'prob_1':prob_1\n",
    "                  \n",
    "                  }\n",
    "                 )\n",
    "df.to_csv(f\"{folderw}/overlapped/check.csv\")\n",
    "ones=np.sum(predictions)\n",
    "total=len(predictions)\n",
    "sick=ones/total\n",
    "healthy=(total-ones)/total\n",
    "\n",
    "print(f'IBM predicts: Healthy:{healthy*100}%, sick {sick*100}%')"
   ]
  }
 ],
 "metadata": {
  "kernelspec": {
   "display_name": "Python 3 (ipykernel)",
   "language": "python",
   "name": "python3"
  },
  "language_info": {
   "codemirror_mode": {
    "name": "ipython",
    "version": 3
   },
   "file_extension": ".py",
   "mimetype": "text/x-python",
   "name": "python",
   "nbconvert_exporter": "python",
   "pygments_lexer": "ipython3",
   "version": "3.9.7"
  }
 },
 "nbformat": 4,
 "nbformat_minor": 5
}
